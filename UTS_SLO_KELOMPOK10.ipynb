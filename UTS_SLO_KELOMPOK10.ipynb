{
  "nbformat": 4,
  "nbformat_minor": 0,
  "metadata": {
    "colab": {
      "name": "Klasifikasi_MNIST_202011061500.ipynb",
      "provenance": [],
      "collapsed_sections": [],
      "include_colab_link": true
    },
    "kernelspec": {
      "name": "python3",
      "display_name": "Python 3"
    }
  },
  "cells": [
    {
      "cell_type": "markdown",
      "metadata": {
        "id": "view-in-github",
        "colab_type": "text"
      },
      "source": [
        "<a href=\"https://colab.research.google.com/github/rivandimuhammads/MachineLearning/blob/main/UTS_SLO_KELOMPOK10.ipynb\" target=\"_parent\"><img src=\"https://colab.research.google.com/assets/colab-badge.svg\" alt=\"Open In Colab\"/></a>"
      ]
    },
    {
      "cell_type": "markdown",
      "metadata": {
        "id": "XAzxNOKBXckC"
      },
      "source": [
        "Untuk mengimport file dari folder gdrive"
      ]
    },
    {
      "cell_type": "code",
      "metadata": {
        "id": "l0H8lMdiV5Nm",
        "outputId": "df603399-5daa-4772-b7fb-9b4be7a0fed4",
        "colab": {
          "base_uri": "https://localhost:8080/"
        }
      },
      "source": [
        "from google.colab import drive\n",
        "drive.mount('/content/gdrive')"
      ],
      "execution_count": null,
      "outputs": [
        {
          "output_type": "stream",
          "text": [
            "Mounted at /content/gdrive\n"
          ],
          "name": "stdout"
        }
      ]
    },
    {
      "cell_type": "markdown",
      "metadata": {
        "id": "3zCHnFdMZnBp"
      },
      "source": [
        "Untuk membaca dataset training dari file yang telah tersimpan di folder gdrive. Nama file dataset training adalah mnist_train.csv (sesuai nama dataset train yang di save di gdrive)"
      ]
    },
    {
      "cell_type": "code",
      "metadata": {
        "id": "FdhDyuyPX9b_",
        "outputId": "2ba734b8-9140-4b6b-b36b-1e031a312717",
        "colab": {
          "base_uri": "https://localhost:8080/"
        }
      },
      "source": [
        "import pandas as pd\n",
        "data_train=pd.read_csv(\"gdrive/My Drive/Colab Notebooks/mnist_train.csv\")\n",
        "print(data_train)"
      ],
      "execution_count": null,
      "outputs": [
        {
          "output_type": "stream",
          "text": [
            "       5  0  0.1  0.2  0.3  0.4  ...  0.612  0.613  0.614  0.615  0.616  0.617\n",
            "0      0  0    0    0    0    0  ...      0      0      0      0      0      0\n",
            "1      4  0    0    0    0    0  ...      0      0      0      0      0      0\n",
            "2      1  0    0    0    0    0  ...      0      0      0      0      0      0\n",
            "3      9  0    0    0    0    0  ...      0      0      0      0      0      0\n",
            "4      2  0    0    0    0    0  ...      0      0      0      0      0      0\n",
            "...   .. ..  ...  ...  ...  ...  ...    ...    ...    ...    ...    ...    ...\n",
            "59994  8  0    0    0    0    0  ...      0      0      0      0      0      0\n",
            "59995  3  0    0    0    0    0  ...      0      0      0      0      0      0\n",
            "59996  5  0    0    0    0    0  ...      0      0      0      0      0      0\n",
            "59997  6  0    0    0    0    0  ...      0      0      0      0      0      0\n",
            "59998  8  0    0    0    0    0  ...      0      0      0      0      0      0\n",
            "\n",
            "[59999 rows x 785 columns]\n"
          ],
          "name": "stdout"
        }
      ]
    },
    {
      "cell_type": "markdown",
      "metadata": {
        "id": "q1L-5O2nbv1C"
      },
      "source": [
        "Untuk membaca dataset test dari file yang telah tersimpan di folder gdrive. Nama file dataset training adalah mnist_test.csv (sesuai nama dataset test di gdrive)"
      ]
    },
    {
      "cell_type": "code",
      "metadata": {
        "id": "0Nv4wvKTbCU-",
        "outputId": "7b92d182-da4c-453b-a500-ca36d5aeab8e",
        "colab": {
          "base_uri": "https://localhost:8080/"
        }
      },
      "source": [
        "import pandas as pd\n",
        "data_test=pd.read_csv(\"gdrive/My Drive/Colab Notebooks/mnist_test.csv\")\n",
        "print(data_test)"
      ],
      "execution_count": null,
      "outputs": [
        {
          "output_type": "stream",
          "text": [
            "      7  0  0.1  0.2  0.3  0.4  ...  0.662  0.663  0.664  0.665  0.666  0.667\n",
            "0     2  0    0    0    0    0  ...      0      0      0      0      0      0\n",
            "1     1  0    0    0    0    0  ...      0      0      0      0      0      0\n",
            "2     0  0    0    0    0    0  ...      0      0      0      0      0      0\n",
            "3     4  0    0    0    0    0  ...      0      0      0      0      0      0\n",
            "4     1  0    0    0    0    0  ...      0      0      0      0      0      0\n",
            "...  .. ..  ...  ...  ...  ...  ...    ...    ...    ...    ...    ...    ...\n",
            "9994  2  0    0    0    0    0  ...      0      0      0      0      0      0\n",
            "9995  3  0    0    0    0    0  ...      0      0      0      0      0      0\n",
            "9996  4  0    0    0    0    0  ...      0      0      0      0      0      0\n",
            "9997  5  0    0    0    0    0  ...      0      0      0      0      0      0\n",
            "9998  6  0    0    0    0    0  ...      0      0      0      0      0      0\n",
            "\n",
            "[9999 rows x 785 columns]\n"
          ],
          "name": "stdout"
        }
      ]
    },
    {
      "cell_type": "markdown",
      "metadata": {
        "id": "ZpmYWALUcdMR"
      },
      "source": [
        "Untuk mendefinisikan label berdasarkan pixel yang ada pada image yaitu 28x28 menggunakan library matplotlib yang dapat menghasilkan plot dengan kualitas tinggi dalam berbagai format dan numpy sebagai pembentuk N-dimensional array"
      ]
    },
    {
      "cell_type": "code",
      "metadata": {
        "id": "ZH1ds2d-YwRP",
        "outputId": "ba80a431-25a4-42f6-9b8a-91fd4f4c7bce",
        "colab": {
          "base_uri": "https://localhost:8080/"
        }
      },
      "source": [
        "%matplotlib inline\n",
        "import numpy as np\n",
        "import matplotlib.pyplot as plt\n",
        "\n",
        "image_size = 28 # width and length\n",
        "no_of_different_labels = 10 #  i.e. 0, 1, 2, 3, ..., 9\n",
        "image_pixels = image_size * image_size\n",
        "data_path = \"gdrive/My Drive/Colab Notebooks/\"\n",
        "train_data = np.loadtxt(data_path + \"mnist_train.csv\", \n",
        "                        delimiter=\",\")\n",
        "test_data = np.loadtxt(data_path + \"mnist_test.csv\", \n",
        "                       delimiter=\",\") \n",
        "test_data[:10]"
      ],
      "execution_count": null,
      "outputs": [
        {
          "output_type": "execute_result",
          "data": {
            "text/plain": [
              "array([[7., 0., 0., ..., 0., 0., 0.],\n",
              "       [2., 0., 0., ..., 0., 0., 0.],\n",
              "       [1., 0., 0., ..., 0., 0., 0.],\n",
              "       ...,\n",
              "       [9., 0., 0., ..., 0., 0., 0.],\n",
              "       [5., 0., 0., ..., 0., 0., 0.],\n",
              "       [9., 0., 0., ..., 0., 0., 0.]])"
            ]
          },
          "metadata": {
            "tags": []
          },
          "execution_count": 4
        }
      ]
    },
    {
      "cell_type": "code",
      "metadata": {
        "id": "nsEMvPcAZbep",
        "outputId": "e0d2ca82-4cee-41aa-bc76-196d257241d1",
        "colab": {
          "base_uri": "https://localhost:8080/"
        }
      },
      "source": [
        "test_data[test_data==255]\n",
        "test_data.shape"
      ],
      "execution_count": null,
      "outputs": [
        {
          "output_type": "execute_result",
          "data": {
            "text/plain": [
              "(10000, 785)"
            ]
          },
          "metadata": {
            "tags": []
          },
          "execution_count": 5
        }
      ]
    },
    {
      "cell_type": "markdown",
      "metadata": {
        "id": "qj3zenRIdHtZ"
      },
      "source": [
        "Mapping dataset dari range 0 sampai dengan 255 menjadi interval 0.01 sampai 1 dengan mengalikan tiap pixel dengan 0.99/25 ditambah dengan 0.01. Input 0 dihindari supaya selalu terjadi weight update."
      ]
    },
    {
      "cell_type": "code",
      "metadata": {
        "id": "BKXCKUg8ZiKX"
      },
      "source": [
        "fac = 0.99 / 255\n",
        "train_imgs = np.asfarray(train_data[:, 1:]) * fac + 0.01\n",
        "test_imgs = np.asfarray(test_data[:, 1:]) * fac + 0.01\n",
        "\n",
        "train_labels = np.asfarray(train_data[:, :1])\n",
        "test_labels = np.asfarray(test_data[:, :1])"
      ],
      "execution_count": null,
      "outputs": []
    },
    {
      "cell_type": "markdown",
      "metadata": {
        "id": "kQOyaNPAeW7i"
      },
      "source": [
        "Untuk memetakan label dalam bentuk array dalam *one-hot representation*"
      ]
    },
    {
      "cell_type": "code",
      "metadata": {
        "id": "wT2f-5zPZkwR",
        "outputId": "90c598f8-4bf6-47cf-c7d4-906e2da05399",
        "colab": {
          "base_uri": "https://localhost:8080/"
        }
      },
      "source": [
        "import numpy as np\n",
        "\n",
        "lr = np.arange(10)\n",
        "\n",
        "for label in range(10):\n",
        "    one_hot = (lr==label).astype(np.int)\n",
        "    print(\"label: \", label, \" in one-hot representation: \", one_hot)"
      ],
      "execution_count": null,
      "outputs": [
        {
          "output_type": "stream",
          "text": [
            "label:  0  in one-hot representation:  [1 0 0 0 0 0 0 0 0 0]\n",
            "label:  1  in one-hot representation:  [0 1 0 0 0 0 0 0 0 0]\n",
            "label:  2  in one-hot representation:  [0 0 1 0 0 0 0 0 0 0]\n",
            "label:  3  in one-hot representation:  [0 0 0 1 0 0 0 0 0 0]\n",
            "label:  4  in one-hot representation:  [0 0 0 0 1 0 0 0 0 0]\n",
            "label:  5  in one-hot representation:  [0 0 0 0 0 1 0 0 0 0]\n",
            "label:  6  in one-hot representation:  [0 0 0 0 0 0 1 0 0 0]\n",
            "label:  7  in one-hot representation:  [0 0 0 0 0 0 0 1 0 0]\n",
            "label:  8  in one-hot representation:  [0 0 0 0 0 0 0 0 1 0]\n",
            "label:  9  in one-hot representation:  [0 0 0 0 0 0 0 0 0 1]\n"
          ],
          "name": "stdout"
        }
      ]
    },
    {
      "cell_type": "markdown",
      "metadata": {
        "id": "LkdY-yO9fD5C"
      },
      "source": [
        "Untuk memetakan label dalam bentuk array dengan nilai antara 0.01 dan 0.99\n"
      ]
    },
    {
      "cell_type": "code",
      "metadata": {
        "id": "C_gHAAV4Zwod"
      },
      "source": [
        "lr = np.arange(no_of_different_labels)\n",
        "\n",
        "# transform labels menjadi one hot representation\n",
        "train_labels_one_hot = (lr==train_labels).astype(np.float)\n",
        "test_labels_one_hot = (lr==test_labels).astype(np.float)\n",
        "\n",
        "# we don't want zeroes and ones in the labels neither:\n",
        "train_labels_one_hot[train_labels_one_hot==0] = 0.01\n",
        "train_labels_one_hot[train_labels_one_hot==1] = 0.99\n",
        "test_labels_one_hot[test_labels_one_hot==0] = 0.01\n",
        "test_labels_one_hot[test_labels_one_hot==1] = 0.99"
      ],
      "execution_count": null,
      "outputs": []
    },
    {
      "cell_type": "markdown",
      "metadata": {
        "id": "HWDQnTbHfXsw"
      },
      "source": [
        "Untuk melihat data train yang telah direshape ke ukuran 28x28"
      ]
    },
    {
      "cell_type": "code",
      "metadata": {
        "id": "5zCrp8ILZyZK",
        "outputId": "467d97a8-a0cf-4e03-d0f8-e020890aab9b",
        "colab": {
          "base_uri": "https://localhost:8080/",
          "height": 1000
        }
      },
      "source": [
        "for i in range(15):\n",
        "    img = train_imgs[i].reshape((28,28))\n",
        "    plt.imshow(img, cmap=\"Greys\")\n",
        "    plt.show()"
      ],
      "execution_count": null,
      "outputs": [
        {
          "output_type": "display_data",
          "data": {
            "image/png": "[encoded data removed]",
            "text/plain": [
              "<Figure size 432x288 with 1 Axes>"
            ]
          },
          "metadata": {
            "tags": [],
            "needs_background": "light"
          }
        },
        {
          "output_type": "display_data",
          "data": {
            "image/png": "[encoded data removed]",
            "text/plain": [
              "<Figure size 432x288 with 1 Axes>"
            ]
          },
          "metadata": {
            "tags": [],
            "needs_background": "light"
          }
        },
        {
          "output_type": "display_data",
          "data": {
            "image/png": "[encoded data removed]",
            "text/plain": [
              "<Figure size 432x288 with 1 Axes>"
            ]
          },
          "metadata": {
            "tags": [],
            "needs_background": "light"
          }
        },
        {
          "output_type": "display_data",
          "data": {
            "image/png": "[encoded data removed]",
            "text/plain": [
              "<Figure size 432x288 with 1 Axes>"
            ]
          },
          "metadata": {
            "tags": [],
            "needs_background": "light"
          }
        },
        {
          "output_type": "display_data",
          "data": {
            "image/png": "[encoded data removed]",
            "text/plain": [
              "<Figure size 432x288 with 1 Axes>"
            ]
          },
          "metadata": {
            "tags": [],
            "needs_background": "light"
          }
        },
        {
          "output_type": "display_data",
          "data": {
            "image/png": "[encoded data removed]",
            "text/plain": [
              "<Figure size 432x288 with 1 Axes>"
            ]
          },
          "metadata": {
            "tags": [],
            "needs_background": "light"
          }
        },
        {
          "output_type": "display_data",
          "data": {
            "image/png": "[encoded data removed]",
            "text/plain": [
              "<Figure size 432x288 with 1 Axes>"
            ]
          },
          "metadata": {
            "tags": [],
            "needs_background": "light"
          }
        },
        {
          "output_type": "display_data",
          "data": {
            "image/png": "[encoded data removed]",
            "text/plain": [
              "<Figure size 432x288 with 1 Axes>"
            ]
          },
          "metadata": {
            "tags": [],
            "needs_background": "light"
          }
        },
        {
          "output_type": "display_data",
          "data": {
            "image/png": "[encoded data removed]",
            "text/plain": [
              "<Figure size 432x288 with 1 Axes>"
            ]
          },
          "metadata": {
            "tags": [],
            "needs_background": "light"
          }
        },
        {
          "output_type": "display_data",
          "data": {
            "image/png": "[encoded data removed]",
            "text/plain": [
              "<Figure size 432x288 with 1 Axes>"
            ]
          },
          "metadata": {
            "tags": [],
            "needs_background": "light"
          }
        },
        {
          "output_type": "display_data",
          "data": {
            "image/png": "[encoded data removed]",
            "text/plain": [
              "<Figure size 432x288 with 1 Axes>"
            ]
          },
          "metadata": {
            "tags": [],
            "needs_background": "light"
          }
        },
        {
          "output_type": "display_data",
          "data": {
            "image/png": "[encoded data removed]",
            "text/plain": [
              "<Figure size 432x288 with 1 Axes>"
            ]
          },
          "metadata": {
            "tags": [],
            "needs_background": "light"
          }
        },
        {
          "output_type": "display_data",
          "data": {
            "image/png": "[encoded data removed]",
            "text/plain": [
              "<Figure size 432x288 with 1 Axes>"
            ]
          },
          "metadata": {
            "tags": [],
            "needs_background": "light"
          }
        },
        {
          "output_type": "display_data",
          "data": {
            "image/png": "[encoded data removed]",
            "text/plain": [
              "<Figure size 432x288 with 1 Axes>"
            ]
          },
          "metadata": {
            "tags": [],
            "needs_background": "light"
          }
        },
        {
          "output_type": "display_data",
          "data": {
            "image/png": "[encoded data removed]",
            "text/plain": [
              "<Figure size 432x288 with 1 Axes>"
            ]
          },
          "metadata": {
            "tags": [],
            "needs_background": "light"
          }
        }
      ]
    },
    {
      "cell_type": "markdown",
      "metadata": {
        "id": "-8EUnotDf4CC"
      },
      "source": [
        "Untuk melakukan klasifikasi dataset dengan neural network menggunakan fungsi aktivasi sigmoid. Inisialisasi weight dilakukan dengan menggenerasi nilai acak dengan truncated distribution.\n"
      ]
    },
    {
      "cell_type": "code",
      "metadata": {
        "id": "t9RjFjchZ_o2"
      },
      "source": [
        "import numpy as np\n",
        "\n",
        "@np.vectorize\n",
        "def sigmoid(x):\n",
        "    return 1 / (1 + np.e ** -x)\n",
        "activation_function = sigmoid\n",
        "\n",
        "from scipy.stats import truncnorm\n",
        "\n",
        "def truncated_normal(mean=0, sd=1, low=0, upp=10):\n",
        "    return truncnorm((low - mean) / sd, \n",
        "                     (upp - mean) / sd, \n",
        "                     loc=mean, \n",
        "                     scale=sd)\n",
        "\n",
        "\n",
        "class NeuralNetwork:\n",
        "    \n",
        "    def __init__(self, \n",
        "                 no_of_in_nodes, \n",
        "                 no_of_out_nodes, \n",
        "                 no_of_hidden_nodes,\n",
        "                 learning_rate):\n",
        "        self.no_of_in_nodes = no_of_in_nodes\n",
        "        self.no_of_out_nodes = no_of_out_nodes\n",
        "        self.no_of_hidden_nodes = no_of_hidden_nodes\n",
        "        self.learning_rate = learning_rate \n",
        "        self.create_weight_matrices()\n",
        "        \n",
        "    def create_weight_matrices(self):\n",
        "        \"\"\" \n",
        "        A method to initialize the weight \n",
        "        matrices of the neural network\n",
        "        \"\"\"\n",
        "        rad = 1 / np.sqrt(self.no_of_in_nodes)\n",
        "        X = truncated_normal(mean=0, \n",
        "                             sd=1, \n",
        "                             low=-rad, \n",
        "                             upp=rad)\n",
        "        self.wih = X.rvs((self.no_of_hidden_nodes, \n",
        "                                       self.no_of_in_nodes))\n",
        "        rad = 1 / np.sqrt(self.no_of_hidden_nodes)\n",
        "        X = truncated_normal(mean=0, sd=1, low=-rad, upp=rad)\n",
        "        self.who = X.rvs((self.no_of_out_nodes, \n",
        "                                         self.no_of_hidden_nodes))\n",
        "        \n",
        "    \n",
        "    def train(self, input_vector, target_vector):\n",
        "        \"\"\"\n",
        "        input_vector and target_vector can \n",
        "        be tuple, list or ndarray\n",
        "        \"\"\"\n",
        "        \n",
        "        input_vector = np.array(input_vector, ndmin=2).T\n",
        "        target_vector = np.array(target_vector, ndmin=2).T\n",
        "        \n",
        "        output_vector1 = np.dot(self.wih, \n",
        "                                input_vector)\n",
        "        output_hidden = activation_function(output_vector1)\n",
        "        \n",
        "        output_vector2 = np.dot(self.who, \n",
        "                                output_hidden)\n",
        "        output_network = activation_function(output_vector2)\n",
        "        \n",
        "        output_errors = target_vector - output_network\n",
        "        # memperbaharui weights:\n",
        "        tmp = output_errors * output_network \\\n",
        "              * (1.0 - output_network)     \n",
        "        tmp = self.learning_rate  * np.dot(tmp, \n",
        "                                           output_hidden.T)\n",
        "        self.who += tmp\n",
        "\n",
        "\n",
        "        # mengkalkulasikan hidden errors:\n",
        "        hidden_errors = np.dot(self.who.T, \n",
        "                               output_errors)\n",
        "        # memperbaharui weights:\n",
        "        tmp = hidden_errors * output_hidden * \\\n",
        "              (1.0 - output_hidden)\n",
        "        self.wih += self.learning_rate \\\n",
        "                          * np.dot(tmp, input_vector.T)\n",
        "        \n",
        "\n",
        "        \n",
        "    \n",
        "    def run(self, input_vector):\n",
        "        # input_vector bisa berupa tuple, list atau ndarray\n",
        "        input_vector = np.array(input_vector, ndmin=2).T\n",
        "\n",
        "        output_vector = np.dot(self.wih, \n",
        "                               input_vector)\n",
        "        output_vector = activation_function(output_vector)\n",
        "        \n",
        "        output_vector = np.dot(self.who, \n",
        "                               output_vector)\n",
        "        output_vector = activation_function(output_vector)\n",
        "    \n",
        "        return output_vector\n",
        "            \n",
        "    def confusion_matrix(self, data_array, labels):\n",
        "        cm = np.zeros((10, 10), int)\n",
        "        for i in range(len(data_array)):\n",
        "            res = self.run(data_array[i])\n",
        "            res_max = res.argmax()\n",
        "            target = labels[i][0]\n",
        "            cm[res_max, int(target)] += 1\n",
        "        return cm    \n",
        "\n",
        "    def precision(self, label, confusion_matrix):\n",
        "        col = confusion_matrix[:, label]\n",
        "        return confusion_matrix[label, label] / col.sum()\n",
        "    \n",
        "    def recall(self, label, confusion_matrix):\n",
        "        row = confusion_matrix[label, :]\n",
        "        return confusion_matrix[label, label] / row.sum()\n",
        "        \n",
        "    \n",
        "    def evaluate(self, data, labels):\n",
        "        corrects, wrongs = 0, 0\n",
        "        for i in range(len(data)):\n",
        "            res = self.run(data[i])\n",
        "            res_max = res.argmax()\n",
        "            if res_max == labels[i]:\n",
        "                corrects += 1\n",
        "            else:\n",
        "                wrongs += 1\n",
        "        return corrects, wrongs"
      ],
      "execution_count": null,
      "outputs": []
    },
    {
      "cell_type": "markdown",
      "metadata": {
        "id": "EuIEmMXqhPuB"
      },
      "source": [
        "Untuk melakukan training pada dataset denagn jumlah node 10, jumlah hidden node 100 dan learning rate 0.1"
      ]
    },
    {
      "cell_type": "code",
      "metadata": {
        "id": "0Mf4aB2JaUs9"
      },
      "source": [
        "ANN = NeuralNetwork(no_of_in_nodes = image_pixels, \n",
        "                    no_of_out_nodes = 10, \n",
        "                    no_of_hidden_nodes = 100,\n",
        "                    learning_rate = 0.1)\n",
        "    \n",
        "    \n",
        "for i in range(len(train_imgs)):\n",
        "    ANN.train(train_imgs[i], train_labels_one_hot[i])"
      ],
      "execution_count": null,
      "outputs": []
    },
    {
      "cell_type": "markdown",
      "metadata": {
        "id": "vV74BVS8g9Mq"
      },
      "source": [
        "Untuk melakukan test pada dataset yang ada dengan jumlah pada range\n"
      ]
    },
    {
      "cell_type": "code",
      "metadata": {
        "id": "eGn4rO_3a72g",
        "outputId": "5e99c56f-8dcb-4433-a58b-cd49da567be5",
        "colab": {
          "base_uri": "https://localhost:8080/"
        }
      },
      "source": [
        "for i in range(30):\n",
        "    res = ANN.run(test_imgs[i])\n",
        "    print(test_labels[i], np.argmax(res), np.max(res))"
      ],
      "execution_count": null,
      "outputs": [
        {
          "output_type": "stream",
          "text": [
            "[7.] 7 0.9918426366827297\n",
            "[2.] 2 0.8935103343083417\n",
            "[1.] 1 0.9936673731559585\n",
            "[0.] 0 0.9820624143701285\n",
            "[4.] 4 0.935536729493645\n",
            "[1.] 1 0.99021646276175\n",
            "[4.] 4 0.98320037879919\n",
            "[9.] 9 0.9881299033209425\n",
            "[5.] 6 0.7862232854657539\n",
            "[9.] 9 0.9775754816441072\n",
            "[0.] 0 0.9703917736393444\n",
            "[6.] 6 0.841438648360307\n",
            "[9.] 9 0.994445190244028\n",
            "[0.] 0 0.9802617526200493\n",
            "[1.] 1 0.9928824320117544\n",
            "[5.] 5 0.9689287490086946\n",
            "[9.] 9 0.9903365826510506\n",
            "[7.] 7 0.9921565498364853\n",
            "[3.] 3 0.8340378175563051\n",
            "[4.] 4 0.9862564271844592\n",
            "[9.] 9 0.9866222518496753\n",
            "[6.] 6 0.9768029764724862\n",
            "[6.] 6 0.9282401342806272\n",
            "[5.] 5 0.9849672550604357\n",
            "[4.] 4 0.9486191018448656\n",
            "[0.] 0 0.9521705246845225\n",
            "[7.] 7 0.9833200105783232\n",
            "[4.] 4 0.9856093570579064\n",
            "[0.] 0 0.9873580029604023\n",
            "[1.] 1 0.9898131541015162\n"
          ],
          "name": "stdout"
        }
      ]
    },
    {
      "cell_type": "markdown",
      "metadata": {
        "id": "WauAYzbNhqmZ"
      },
      "source": [
        "Untuk mengevaluasi tingkat ketepatan klasifikasi pada training dan test serta mengetahui confusion matrix."
      ]
    },
    {
      "cell_type": "code",
      "metadata": {
        "id": "aZQo6E6kbBn1",
        "outputId": "56ac1319-1391-499f-c6f3-e3cc007a7590",
        "colab": {
          "base_uri": "https://localhost:8080/"
        }
      },
      "source": [
        "corrects, wrongs = ANN.evaluate(train_imgs, train_labels)\n",
        "print(\"accuracy train: \", corrects / ( corrects + wrongs))\n",
        "corrects, wrongs = ANN.evaluate(test_imgs, test_labels)\n",
        "print(\"accuracy: test\", corrects / ( corrects + wrongs))\n",
        "\n",
        "cm = ANN.confusion_matrix(train_imgs, train_labels)\n",
        "print(cm)\n",
        "\n",
        "for i in range(10):\n",
        "    print(\"digit: \", i, \"precision: \", ANN.precision(i, cm), \"recall: \", ANN.recall(i, cm))"
      ],
      "execution_count": null,
      "outputs": [
        {
          "output_type": "stream",
          "text": [
            "accuracy train:  0.9450666666666667\n",
            "accuracy: test 0.9454\n",
            "[[5816    0   46   13   18   48   51   13   17   33]\n",
            " [   1 6631   52   25   11   22   24   57  120   14]\n",
            " [   3   22 5563   44   14    9    3   37   10    6]\n",
            " [   3   43   66 5849    2  167    1   26  154   69]\n",
            " [   5   11   44    7 5297   33    8   44   29   46]\n",
            " [   7    2    1   37    0 4886   24    1   16    6]\n",
            " [  24    0   50   17   62   76 5773    5   34    4]\n",
            " [   2    6   39   29    2    4    0 5832    3   25]\n",
            " [  43   12   79   53    8   68   33   10 5327   16]\n",
            " [  19   15   18   57  428  108    1  240  141 5730]]\n",
            "digit:  0 precision:  0.9819348303224718 recall:  0.9605284888521882\n",
            "digit:  1 precision:  0.9835360427172946 recall:  0.9531407215753916\n",
            "digit:  2 precision:  0.9337025847599866 recall:  0.9740850989318859\n",
            "digit:  3 precision:  0.9540042407437612 recall:  0.9167711598746081\n",
            "digit:  4 precision:  0.9067100308113659 recall:  0.9589065894279507\n",
            "digit:  5 precision:  0.9013097214536063 recall:  0.9811244979919679\n",
            "digit:  6 precision:  0.9754984792159513 recall:  0.955004135649297\n",
            "digit:  7 precision:  0.9308858739026337 recall:  0.9814877145742175\n",
            "digit:  8 precision:  0.9104426593744659 recall:  0.942998760842627\n",
            "digit:  9 precision:  0.9631870902672718 recall:  0.8480094716590203\n"
          ],
          "name": "stdout"
        }
      ]
    },
    {
      "cell_type": "markdown",
      "metadata": {
        "id": "pt5jdRzMiKpB"
      },
      "source": [
        "Untuk mengulang proses training sebanyak jumlah yang ditentukan pada epocs. Seiring bertambahnya jumlah epoch, semakin banyak pula weight (bobot) yang berubah dalam Neural Network dan kurvanya melengkung dari kurva yang kurang sesuai hingga selaras dengan kurva yang overfitting. Tetapi, jumlah sampling epochs dipengaruhi oleh jumlah dataset "
      ]
    },
    {
      "cell_type": "code",
      "metadata": {
        "id": "eNin_dsEbaTb",
        "outputId": "60c7e555-4900-438f-b771-1fae548848a5",
        "colab": {
          "base_uri": "https://localhost:8080/"
        }
      },
      "source": [
        "epochs = 3\n",
        "\n",
        "NN = NeuralNetwork(no_of_in_nodes = image_pixels, \n",
        "                   no_of_out_nodes = 10, \n",
        "                   no_of_hidden_nodes = 100,\n",
        "                   learning_rate = 0.1)\n",
        "\n",
        "\n",
        "for epoch in range(epochs):  \n",
        "    print(\"epoch: \", epoch)\n",
        "    for i in range(len(train_imgs)):\n",
        "        NN.train(train_imgs[i], \n",
        "                 train_labels_one_hot[i])\n",
        "  \n",
        "    corrects, wrongs = NN.evaluate(train_imgs, train_labels)\n",
        "    print(\"accuracy train: \", corrects / ( corrects + wrongs))\n",
        "    corrects, wrongs = NN.evaluate(test_imgs, test_labels)\n",
        "    print(\"accuracy: test\", corrects / ( corrects + wrongs))"
      ],
      "execution_count": null,
      "outputs": [
        {
          "output_type": "stream",
          "text": [
            "epoch:  0\n",
            "accuracy train:  0.9469333333333333\n",
            "accuracy: test 0.9443\n",
            "epoch:  1\n",
            "accuracy train:  0.9583166666666667\n",
            "accuracy: test 0.9529\n",
            "epoch:  2\n",
            "accuracy train:  0.9670166666666666\n",
            "accuracy: test 0.9585\n"
          ],
          "name": "stdout"
        }
      ]
    }
  ]
}